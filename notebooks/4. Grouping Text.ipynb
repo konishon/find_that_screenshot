{
 "cells": [
  {
   "cell_type": "code",
   "execution_count": 83,
   "id": "96833075-d507-40bc-acc1-9b4546a89ca2",
   "metadata": {},
   "outputs": [],
   "source": [
    "import json\n",
    "with open('../data/cleaned_texts.json') as data_file:\n",
    "    clean_text = json.load(data_file)"
   ]
  },
  {
   "cell_type": "code",
   "execution_count": 84,
   "id": "1a4306bd-986d-4d90-995c-a80ae38209d0",
   "metadata": {},
   "outputs": [],
   "source": [
    "from sklearn.feature_extraction.text import TfidfVectorizer\n",
    "from sklearn.cluster import KMeans"
   ]
  },
  {
   "cell_type": "code",
   "execution_count": 85,
   "id": "1f57193c-dc46-43f2-8afa-2bad3ff101d8",
   "metadata": {},
   "outputs": [],
   "source": [
    "def process_text(clean_text):\n",
    "    texts = []\n",
    "    for item in clean_text:\n",
    "        text = \" \".join(item['cleaned'])\n",
    "        texts.append(text)\n",
    "    return texts"
   ]
  },
  {
   "cell_type": "code",
   "execution_count": 86,
   "id": "de4cd23d-8173-4078-beb1-f7a74dd268a9",
   "metadata": {},
   "outputs": [],
   "source": [
    "texts = process_text(clean_text)\n",
    "vectorizer = TfidfVectorizer(stop_words = 'english')\n",
    "data = vectorizer.fit_transform(texts)\n",
    "true_k = 10\n",
    "clustering_model = KMeans(n_clusters = true_k, \n",
    "                          init = 'k-means++',\n",
    "                          max_iter = 300, n_init = 10)\n",
    "clustering_model.fit(data)\n",
    "sorted_centroids = clustering_model.cluster_centers_.argsort()[:, ::-1]\n",
    "terms = vectorizer.get_feature_names()"
   ]
  },
  {
   "cell_type": "code",
   "execution_count": null,
   "id": "ad68e1be-4ee2-4d71-ace3-0b28ef7eb414",
   "metadata": {},
   "outputs": [],
   "source": [
    "for i in range(true_k):\n",
    "        print(\"Cluster %d:\" % i, end='')\n",
    "        for ind in sorted_centroids[i, :10]:\n",
    "            print(' %s' % terms[ind], end='')\n",
    "        print()\n",
    "        print()"
   ]
  },
  {
   "cell_type": "code",
   "execution_count": 87,
   "id": "9c3ba568-bb4a-44c5-a6e5-46ca93727688",
   "metadata": {},
   "outputs": [],
   "source": [
    "def process_text(clean_text):\n",
    "    for item in clean_text:\n",
    "        text = \" \".join(item['cleaned'])\n",
    "        Y = vectorizer.transform([text])\n",
    "        prediction = clustering_model.predict(Y)\n",
    "        item['group'] = int(prediction[0])\n",
    "        \n",
    "    return clean_text"
   ]
  },
  {
   "cell_type": "code",
   "execution_count": 88,
   "id": "d6a474ca-8704-45e2-a089-864952223bd5",
   "metadata": {},
   "outputs": [],
   "source": [
    "pred = process_text(clean_text)"
   ]
  },
  {
   "cell_type": "code",
   "execution_count": 89,
   "id": "646bd637-3d13-4585-8d90-64d2b2c8c26e",
   "metadata": {},
   "outputs": [],
   "source": [
    "import json\n",
    "with open('../data/grouped_text.json', 'w', encoding='utf-8') as f:\n",
    "    json.dump(pred, f, ensure_ascii=False, indent=4)"
   ]
  },
  {
   "cell_type": "code",
   "execution_count": null,
   "id": "33fa1b04-608b-45af-80d1-b0c618cabd34",
   "metadata": {},
   "outputs": [],
   "source": []
  }
 ],
 "metadata": {
  "kernelspec": {
   "display_name": "Python 3 (ipykernel)",
   "language": "python",
   "name": "python3"
  },
  "language_info": {
   "codemirror_mode": {
    "name": "ipython",
    "version": 3
   },
   "file_extension": ".py",
   "mimetype": "text/x-python",
   "name": "python",
   "nbconvert_exporter": "python",
   "pygments_lexer": "ipython3",
   "version": "3.9.7"
  }
 },
 "nbformat": 4,
 "nbformat_minor": 5
}
