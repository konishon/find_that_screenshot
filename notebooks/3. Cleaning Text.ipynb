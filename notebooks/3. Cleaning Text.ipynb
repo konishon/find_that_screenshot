{
 "cells": [
  {
   "cell_type": "markdown",
   "id": "b76f343a-cad1-4fa7-b317-6688c0bade3e",
   "metadata": {},
   "source": [
    "> Followed https://towardsdatascience.com/text-cleaning-methods-for-natural-language-processing-f2fc1796e8c7"
   ]
  },
  {
   "cell_type": "code",
   "execution_count": 13,
   "id": "d1a25422-281f-492c-aa75-0bc4770d538a",
   "metadata": {},
   "outputs": [],
   "source": [
    "import json\n",
    "with open('../data/gibberish_texts.json') as data_file:\n",
    "    gibberish_texts = json.load(data_file)"
   ]
  },
  {
   "cell_type": "code",
   "execution_count": 44,
   "id": "f9e29a5c-bf01-4bf8-955e-79af6acd1f40",
   "metadata": {},
   "outputs": [
    {
     "name": "stderr",
     "output_type": "stream",
     "text": [
      "[nltk_data] Downloading package stopwords to /home/niyo/nltk_data...\n",
      "[nltk_data]   Package stopwords is already up-to-date!\n",
      "[nltk_data] Downloading package words to /home/niyo/nltk_data...\n",
      "[nltk_data]   Package words is already up-to-date!\n"
     ]
    }
   ],
   "source": [
    "import nltk.corpus\n",
    "from nltk.corpus import stopwords\n",
    "import re\n",
    "nltk.download('stopwords')\n",
    "nltk.download('words')\n",
    "\n",
    "stop = stopwords.words('english')\n",
    "words = set(nltk.corpus.words.words())"
   ]
  },
  {
   "cell_type": "code",
   "execution_count": 65,
   "id": "e851954a-e2e7-405a-a561-c33681b963c0",
   "metadata": {},
   "outputs": [],
   "source": [
    "def process_text(text):\n",
    "    texts = text['text'].split()\n",
    "    texts = [word.lower() for word in texts]\n",
    "    texts = [word for word in texts if word not in (stop)] # remove stop words\n",
    "    # texts = [word for word in texts if word not in (words)] # remove non-english words\n",
    "    texts = [re.sub(r'[^\\w]', '', word) for word in texts] # remove symbols\n",
    "    texts = [word for word in texts if word != \"\"]  #remove empty string\n",
    "    \n",
    "    text['cleaned'] = texts\n",
    "    return text"
   ]
  },
  {
   "cell_type": "code",
   "execution_count": 68,
   "id": "8248c10f-e160-48a7-a2ff-5fc830ba58bf",
   "metadata": {},
   "outputs": [],
   "source": [
    "clean_texts = [process_text(text) for text in gibberish_texts]"
   ]
  },
  {
   "cell_type": "code",
   "execution_count": 70,
   "id": "6d1851b6-6564-4fa7-bcab-0ca966dd996f",
   "metadata": {},
   "outputs": [],
   "source": [
    "import json\n",
    "with open('../data/cleaned_texts.json', 'w', encoding='utf-8') as f:\n",
    "    json.dump(clean_texts, f, ensure_ascii=False, indent=4)"
   ]
  }
 ],
 "metadata": {
  "kernelspec": {
   "display_name": "Python 3 (ipykernel)",
   "language": "python",
   "name": "python3"
  },
  "language_info": {
   "codemirror_mode": {
    "name": "ipython",
    "version": 3
   },
   "file_extension": ".py",
   "mimetype": "text/x-python",
   "name": "python",
   "nbconvert_exporter": "python",
   "pygments_lexer": "ipython3",
   "version": "3.9.7"
  }
 },
 "nbformat": 4,
 "nbformat_minor": 5
}
