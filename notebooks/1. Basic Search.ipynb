{
 "cells": [
  {
   "cell_type": "code",
   "execution_count": 17,
   "id": "479e41c1-8a47-4d90-915e-14353bab181a",
   "metadata": {},
   "outputs": [],
   "source": [
    "import json\n",
    "with open('../data/gibberish_texts.json') as data_file:\n",
    "    gibberish_texts = json.load(data_file)"
   ]
  },
  {
   "cell_type": "code",
   "execution_count": 51,
   "id": "42c55b29-860a-456c-ab2f-0af748f9902e",
   "metadata": {},
   "outputs": [],
   "source": [
    "def search(text,keyword):\n",
    "    results = []\n",
    "    for text in gibberish_texts:\n",
    "        if keyword in text['text'].lower():\n",
    "             results.append(text['name'])\n",
    "    return results"
   ]
  },
  {
   "cell_type": "code",
   "execution_count": 61,
   "id": "ae728bd6-fe7c-4be6-8214-ee7cfdbd42b1",
   "metadata": {},
   "outputs": [],
   "source": [
    "search_results = search(text,\"poco\")"
   ]
  },
  {
   "cell_type": "code",
   "execution_count": 60,
   "id": "eab8c689-5900-4c67-9a72-2a5dc2fee4a0",
   "metadata": {},
   "outputs": [],
   "source": [
    "from PIL import Image\n",
    "for img in search_results:\n",
    "    im = Image.open(\"../\"+img)\n",
    "    im.show()"
   ]
  }
 ],
 "metadata": {
  "kernelspec": {
   "display_name": "Python 3 (ipykernel)",
   "language": "python",
   "name": "python3"
  },
  "language_info": {
   "codemirror_mode": {
    "name": "ipython",
    "version": 3
   },
   "file_extension": ".py",
   "mimetype": "text/x-python",
   "name": "python",
   "nbconvert_exporter": "python",
   "pygments_lexer": "ipython3",
   "version": "3.9.7"
  }
 },
 "nbformat": 4,
 "nbformat_minor": 5
}
