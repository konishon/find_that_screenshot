{
 "cells": [
  {
   "cell_type": "code",
   "execution_count": null,
   "id": "f3c18b9f-85d6-458d-bde6-c76b9d80a6fe",
   "metadata": {},
   "outputs": [],
   "source": [
    "!pip install pytesseract "
   ]
  },
  {
   "cell_type": "code",
   "execution_count": 8,
   "id": "163572c2-2d38-4ade-80a9-6a7e68594201",
   "metadata": {},
   "outputs": [],
   "source": [
    "import glob \n",
    "import os \n",
    "\n",
    "sample_images_dir = '../sample/images'\n",
    "images = glob.glob(os.path.join(sample_images_dir, \"*.jpg\"))"
   ]
  },
  {
   "cell_type": "code",
   "execution_count": 9,
   "id": "71eef8bb-ece8-4abf-99ec-6822c5b2ed4c",
   "metadata": {},
   "outputs": [],
   "source": [
    "from PIL import Image\n",
    "from pytesseract import pytesseract\n",
    "\n",
    "def img_to_text(image_path):\n",
    "    img = Image.open(image_path)  \n",
    "    pytesseract.tesseract_cmd = \"tesseract\"\n",
    "    text = pytesseract.image_to_string(img)\n",
    "    return {\n",
    "        'name':image_path,\n",
    "        'text':text\n",
    "    }"
   ]
  },
  {
   "cell_type": "markdown",
   "id": "dc551558-617c-475e-a6ff-e215f70e8ddb",
   "metadata": {},
   "source": [
    "> Installation instrsution on Ubuntu 20.04 https://lindevs.com/install-tesseract-ocr-on-ubuntu/"
   ]
  },
  {
   "cell_type": "code",
   "execution_count": null,
   "id": "adc00f41-32da-4b63-8da3-babfd7b8d95d",
   "metadata": {},
   "outputs": [],
   "source": [
    "gibberish_texts =  [img_to_text(img) for img in images]"
   ]
  },
  {
   "cell_type": "code",
   "execution_count": null,
   "id": "695e1ba6-d145-485d-8495-0dd76c4b46f6",
   "metadata": {},
   "outputs": [],
   "source": [
    "import json\n",
    "with open('../data/gibberish_texts.json', 'w', encoding='utf-8') as f:\n",
    "    json.dump(gibberish_texts, f, ensure_ascii=False, indent=4)"
   ]
  },
  {
   "cell_type": "code",
   "execution_count": null,
   "id": "663c3028-c4b6-40d8-afd3-1cdf852b5770",
   "metadata": {},
   "outputs": [],
   "source": []
  }
 ],
 "metadata": {
  "kernelspec": {
   "display_name": "Python 3 (ipykernel)",
   "language": "python",
   "name": "python3"
  },
  "language_info": {
   "codemirror_mode": {
    "name": "ipython",
    "version": 3
   },
   "file_extension": ".py",
   "mimetype": "text/x-python",
   "name": "python",
   "nbconvert_exporter": "python",
   "pygments_lexer": "ipython3",
   "version": "3.9.7"
  }
 },
 "nbformat": 4,
 "nbformat_minor": 5
}
